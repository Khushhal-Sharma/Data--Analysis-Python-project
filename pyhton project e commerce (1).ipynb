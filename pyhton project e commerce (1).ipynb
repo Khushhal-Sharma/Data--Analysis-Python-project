{
 "cells": [
  {
   "cell_type": "code",
   "execution_count": 36,
   "id": "07095b2b-0372-477b-9287-7406386ff039",
   "metadata": {},
   "outputs": [],
   "source": [
    "import pandas as pd\n",
    "import numpy as np\n",
    "import seaborn as sns\n",
    "import matplotlib.pyplot as plt"
   ]
  },
  {
   "cell_type": "code",
   "execution_count": 37,
   "id": "bb2a87e6-5216-46b0-926a-f34d3bd5d14f",
   "metadata": {},
   "outputs": [],
   "source": [
    "customers=pd.read_csv(r\"C:\\Users\\khush\\Downloads\\large_customers.csv\")\n",
    "payments=pd.read_csv(r\"C:\\Users\\khush\\Downloads\\large_payments.csv\")\n",
    "orders=pd.read_csv(r\"C:\\Users\\khush\\Downloads\\large_orders.csv\")\n",
    "order_items=pd.read_csv(r\"C:\\Users\\khush\\Downloads\\large_order_items.csv\")\n",
    "products=pd.read_csv(r\"C:\\Users\\khush\\Downloads\\large_products.csv\")"
   ]
  },
  {
   "cell_type": "code",
   "execution_count": 38,
   "id": "8e872ac8-1278-4bc5-8c10-385cc8d65eb6",
   "metadata": {},
   "outputs": [
    {
     "data": {
      "text/plain": [
       "1000"
      ]
     },
     "execution_count": 38,
     "metadata": {},
     "output_type": "execute_result"
    }
   ],
   "source": [
    "len(customers)"
   ]
  },
  {
   "cell_type": "code",
   "execution_count": 39,
   "id": "3dfd1d1d-532a-48df-9ecd-58d110155a4f",
   "metadata": {},
   "outputs": [
    {
     "data": {
      "text/plain": [
       "2886"
      ]
     },
     "execution_count": 39,
     "metadata": {},
     "output_type": "execute_result"
    }
   ],
   "source": [
    "len(payments)"
   ]
  },
  {
   "cell_type": "code",
   "execution_count": 40,
   "id": "dcdc3efb-560f-47bd-bfa3-8b5048a6874a",
   "metadata": {},
   "outputs": [
    {
     "data": {
      "text/plain": [
       "3000"
      ]
     },
     "execution_count": 40,
     "metadata": {},
     "output_type": "execute_result"
    }
   ],
   "source": [
    "len(orders)"
   ]
  },
  {
   "cell_type": "code",
   "execution_count": 41,
   "id": "e2fe21e4-8eba-4509-869b-90848892e149",
   "metadata": {},
   "outputs": [
    {
     "data": {
      "text/plain": [
       "10000"
      ]
     },
     "execution_count": 41,
     "metadata": {},
     "output_type": "execute_result"
    }
   ],
   "source": [
    "len(order_items)"
   ]
  },
  {
   "cell_type": "code",
   "execution_count": 42,
   "id": "de8f3073-ae70-41ea-8dd0-ab2dade8513f",
   "metadata": {},
   "outputs": [
    {
     "data": {
      "text/plain": [
       "100"
      ]
     },
     "execution_count": 42,
     "metadata": {},
     "output_type": "execute_result"
    }
   ],
   "source": [
    "len(products)"
   ]
  },
  {
   "cell_type": "code",
   "execution_count": 43,
   "id": "dfcc7729-b07d-47e7-b1ab-e061f980ffa0",
   "metadata": {},
   "outputs": [
    {
     "data": {
      "text/plain": [
       "<bound method DataFrame.info of      customer_id  customer_name region\n",
       "0              1     Customer_1  South\n",
       "1              2     Customer_2   West\n",
       "2              3     Customer_3  South\n",
       "3              4     Customer_4  North\n",
       "4              5     Customer_5  North\n",
       "..           ...            ...    ...\n",
       "995          996   Customer_996   East\n",
       "996          997   Customer_997   West\n",
       "997          998   Customer_998  South\n",
       "998          999   Customer_999   West\n",
       "999         1000  Customer_1000  South\n",
       "\n",
       "[1000 rows x 3 columns]>"
      ]
     },
     "execution_count": 43,
     "metadata": {},
     "output_type": "execute_result"
    }
   ],
   "source": [
    "customers.info"
   ]
  },
  {
   "cell_type": "code",
   "execution_count": 44,
   "id": "92e6368d-7564-4bf4-91ff-ccd7bd215263",
   "metadata": {},
   "outputs": [
    {
     "data": {
      "text/plain": [
       "<bound method DataFrame.info of       order_id  payment_value\n",
       "0            2       16078.77\n",
       "1            3       47643.19\n",
       "2            4       32466.59\n",
       "3            5       12899.97\n",
       "4            6        5751.73\n",
       "...        ...            ...\n",
       "2881      2996       49132.51\n",
       "2882      2997       14387.39\n",
       "2883      2998       41763.48\n",
       "2884      2999        4673.28\n",
       "2885      3000       30339.43\n",
       "\n",
       "[2886 rows x 2 columns]>"
      ]
     },
     "execution_count": 44,
     "metadata": {},
     "output_type": "execute_result"
    }
   ],
   "source": [
    "payments.info"
   ]
  },
  {
   "cell_type": "code",
   "execution_count": 45,
   "id": "8991dc75-5396-43f7-aa8d-aefea9ced879",
   "metadata": {},
   "outputs": [
    {
     "data": {
      "text/html": [
       "<div>\n",
       "<style scoped>\n",
       "    .dataframe tbody tr th:only-of-type {\n",
       "        vertical-align: middle;\n",
       "    }\n",
       "\n",
       "    .dataframe tbody tr th {\n",
       "        vertical-align: top;\n",
       "    }\n",
       "\n",
       "    .dataframe thead th {\n",
       "        text-align: right;\n",
       "    }\n",
       "</style>\n",
       "<table border=\"1\" class=\"dataframe\">\n",
       "  <thead>\n",
       "    <tr style=\"text-align: right;\">\n",
       "      <th></th>\n",
       "      <th>order_id</th>\n",
       "      <th>product_id</th>\n",
       "      <th>quantity</th>\n",
       "      <th>price</th>\n",
       "      <th>total_amount</th>\n",
       "    </tr>\n",
       "  </thead>\n",
       "  <tbody>\n",
       "    <tr>\n",
       "      <th>0</th>\n",
       "      <td>2499</td>\n",
       "      <td>67</td>\n",
       "      <td>1</td>\n",
       "      <td>2922.79</td>\n",
       "      <td>2922.79</td>\n",
       "    </tr>\n",
       "    <tr>\n",
       "      <th>1</th>\n",
       "      <td>2763</td>\n",
       "      <td>67</td>\n",
       "      <td>3</td>\n",
       "      <td>2922.79</td>\n",
       "      <td>8768.37</td>\n",
       "    </tr>\n",
       "    <tr>\n",
       "      <th>2</th>\n",
       "      <td>189</td>\n",
       "      <td>67</td>\n",
       "      <td>3</td>\n",
       "      <td>2922.79</td>\n",
       "      <td>8768.37</td>\n",
       "    </tr>\n",
       "    <tr>\n",
       "      <th>3</th>\n",
       "      <td>308</td>\n",
       "      <td>67</td>\n",
       "      <td>3</td>\n",
       "      <td>2922.79</td>\n",
       "      <td>8768.37</td>\n",
       "    </tr>\n",
       "    <tr>\n",
       "      <th>4</th>\n",
       "      <td>2943</td>\n",
       "      <td>67</td>\n",
       "      <td>1</td>\n",
       "      <td>2922.79</td>\n",
       "      <td>2922.79</td>\n",
       "    </tr>\n",
       "    <tr>\n",
       "      <th>...</th>\n",
       "      <td>...</td>\n",
       "      <td>...</td>\n",
       "      <td>...</td>\n",
       "      <td>...</td>\n",
       "      <td>...</td>\n",
       "    </tr>\n",
       "    <tr>\n",
       "      <th>9995</th>\n",
       "      <td>2378</td>\n",
       "      <td>4</td>\n",
       "      <td>4</td>\n",
       "      <td>3870.06</td>\n",
       "      <td>15480.24</td>\n",
       "    </tr>\n",
       "    <tr>\n",
       "      <th>9996</th>\n",
       "      <td>1752</td>\n",
       "      <td>4</td>\n",
       "      <td>1</td>\n",
       "      <td>3870.06</td>\n",
       "      <td>3870.06</td>\n",
       "    </tr>\n",
       "    <tr>\n",
       "      <th>9997</th>\n",
       "      <td>1351</td>\n",
       "      <td>4</td>\n",
       "      <td>2</td>\n",
       "      <td>3870.06</td>\n",
       "      <td>7740.12</td>\n",
       "    </tr>\n",
       "    <tr>\n",
       "      <th>9998</th>\n",
       "      <td>2175</td>\n",
       "      <td>4</td>\n",
       "      <td>1</td>\n",
       "      <td>3870.06</td>\n",
       "      <td>3870.06</td>\n",
       "    </tr>\n",
       "    <tr>\n",
       "      <th>9999</th>\n",
       "      <td>955</td>\n",
       "      <td>4</td>\n",
       "      <td>4</td>\n",
       "      <td>3870.06</td>\n",
       "      <td>15480.24</td>\n",
       "    </tr>\n",
       "  </tbody>\n",
       "</table>\n",
       "<p>10000 rows × 5 columns</p>\n",
       "</div>"
      ],
      "text/plain": [
       "      order_id  product_id  quantity    price  total_amount\n",
       "0         2499          67         1  2922.79       2922.79\n",
       "1         2763          67         3  2922.79       8768.37\n",
       "2          189          67         3  2922.79       8768.37\n",
       "3          308          67         3  2922.79       8768.37\n",
       "4         2943          67         1  2922.79       2922.79\n",
       "...        ...         ...       ...      ...           ...\n",
       "9995      2378           4         4  3870.06      15480.24\n",
       "9996      1752           4         1  3870.06       3870.06\n",
       "9997      1351           4         2  3870.06       7740.12\n",
       "9998      2175           4         1  3870.06       3870.06\n",
       "9999       955           4         4  3870.06      15480.24\n",
       "\n",
       "[10000 rows x 5 columns]"
      ]
     },
     "execution_count": 45,
     "metadata": {},
     "output_type": "execute_result"
    }
   ],
   "source": [
    "order_items"
   ]
  },
  {
   "cell_type": "code",
   "execution_count": 46,
   "id": "17bb3a4c-a04a-4617-8050-acbd471ca8d7",
   "metadata": {},
   "outputs": [
    {
     "data": {
      "text/plain": [
       "<bound method DataFrame.info of       order_id  customer_id  order_date\n",
       "0            1          798  2024-01-20\n",
       "1            2          857  2024-06-10\n",
       "2            3          746  2024-06-12\n",
       "3            4           65  2024-01-08\n",
       "4            5          683  2024-03-15\n",
       "...        ...          ...         ...\n",
       "2995      2996          873  2024-06-02\n",
       "2996      2997          715  2024-06-23\n",
       "2997      2998          362  2024-05-12\n",
       "2998      2999          596  2024-04-02\n",
       "2999      3000          401  2024-02-07\n",
       "\n",
       "[3000 rows x 3 columns]>"
      ]
     },
     "execution_count": 46,
     "metadata": {},
     "output_type": "execute_result"
    }
   ],
   "source": [
    "orders.info"
   ]
  },
  {
   "cell_type": "code",
   "execution_count": 47,
   "id": "6dab8802-d1e3-4b73-a5e9-f5e9a6d27462",
   "metadata": {},
   "outputs": [
    {
     "data": {
      "text/plain": [
       "<bound method DataFrame.info of     product_id product_name     category    price\n",
       "0            1    Product_1     Clothing  3908.48\n",
       "1            2    Product_2  Electronics  1087.64\n",
       "2            3    Product_3  Electronics  4387.06\n",
       "3            4    Product_4         Home  3870.06\n",
       "4            5    Product_5  Electronics  3544.71\n",
       "..         ...          ...          ...      ...\n",
       "95          96   Product_96         Home  3327.08\n",
       "96          97   Product_97        Books  1181.20\n",
       "97          98   Product_98     Clothing  4862.59\n",
       "98          99   Product_99        Books  1870.04\n",
       "99         100  Product_100         Toys  4074.65\n",
       "\n",
       "[100 rows x 4 columns]>"
      ]
     },
     "execution_count": 47,
     "metadata": {},
     "output_type": "execute_result"
    }
   ],
   "source": [
    "products.info"
   ]
  },
  {
   "cell_type": "markdown",
   "id": "2dded78b-1eb9-437d-85d6-0b8e8faac183",
   "metadata": {},
   "source": [
    "### Top 10 Products Sale By Quantity"
   ]
  },
  {
   "cell_type": "code",
   "execution_count": 48,
   "id": "68faeea4-7759-42e9-b482-0150bb082c9f",
   "metadata": {},
   "outputs": [
    {
     "data": {
      "text/html": [
       "<div>\n",
       "<style scoped>\n",
       "    .dataframe tbody tr th:only-of-type {\n",
       "        vertical-align: middle;\n",
       "    }\n",
       "\n",
       "    .dataframe tbody tr th {\n",
       "        vertical-align: top;\n",
       "    }\n",
       "\n",
       "    .dataframe thead th {\n",
       "        text-align: right;\n",
       "    }\n",
       "</style>\n",
       "<table border=\"1\" class=\"dataframe\">\n",
       "  <thead>\n",
       "    <tr style=\"text-align: right;\">\n",
       "      <th></th>\n",
       "      <th>product_id</th>\n",
       "      <th>quantity</th>\n",
       "    </tr>\n",
       "  </thead>\n",
       "  <tbody>\n",
       "    <tr>\n",
       "      <th>0</th>\n",
       "      <td>1</td>\n",
       "      <td>232</td>\n",
       "    </tr>\n",
       "    <tr>\n",
       "      <th>1</th>\n",
       "      <td>2</td>\n",
       "      <td>245</td>\n",
       "    </tr>\n",
       "    <tr>\n",
       "      <th>2</th>\n",
       "      <td>3</td>\n",
       "      <td>254</td>\n",
       "    </tr>\n",
       "    <tr>\n",
       "      <th>3</th>\n",
       "      <td>4</td>\n",
       "      <td>261</td>\n",
       "    </tr>\n",
       "    <tr>\n",
       "      <th>4</th>\n",
       "      <td>5</td>\n",
       "      <td>240</td>\n",
       "    </tr>\n",
       "    <tr>\n",
       "      <th>...</th>\n",
       "      <td>...</td>\n",
       "      <td>...</td>\n",
       "    </tr>\n",
       "    <tr>\n",
       "      <th>95</th>\n",
       "      <td>96</td>\n",
       "      <td>255</td>\n",
       "    </tr>\n",
       "    <tr>\n",
       "      <th>96</th>\n",
       "      <td>97</td>\n",
       "      <td>254</td>\n",
       "    </tr>\n",
       "    <tr>\n",
       "      <th>97</th>\n",
       "      <td>98</td>\n",
       "      <td>252</td>\n",
       "    </tr>\n",
       "    <tr>\n",
       "      <th>98</th>\n",
       "      <td>99</td>\n",
       "      <td>223</td>\n",
       "    </tr>\n",
       "    <tr>\n",
       "      <th>99</th>\n",
       "      <td>100</td>\n",
       "      <td>275</td>\n",
       "    </tr>\n",
       "  </tbody>\n",
       "</table>\n",
       "<p>100 rows × 2 columns</p>\n",
       "</div>"
      ],
      "text/plain": [
       "    product_id  quantity\n",
       "0            1       232\n",
       "1            2       245\n",
       "2            3       254\n",
       "3            4       261\n",
       "4            5       240\n",
       "..         ...       ...\n",
       "95          96       255\n",
       "96          97       254\n",
       "97          98       252\n",
       "98          99       223\n",
       "99         100       275\n",
       "\n",
       "[100 rows x 2 columns]"
      ]
     },
     "execution_count": 48,
     "metadata": {},
     "output_type": "execute_result"
    }
   ],
   "source": [
    "top = order_items.groupby('product_id')['quantity'].sum().reset_index()\n",
    "top"
   ]
  },
  {
   "cell_type": "code",
   "execution_count": 49,
   "id": "4918b672-25d2-45ee-9096-95537f56ea46",
   "metadata": {},
   "outputs": [],
   "source": [
    "top=top.sort_values(by='quantity',ascending=False).reset_index(drop=True)[:10]"
   ]
  },
  {
   "cell_type": "code",
   "execution_count": 50,
   "id": "86e57877-a40b-4a0c-834a-f8012d3395bb",
   "metadata": {},
   "outputs": [
    {
     "data": {
      "text/html": [
       "<div>\n",
       "<style scoped>\n",
       "    .dataframe tbody tr th:only-of-type {\n",
       "        vertical-align: middle;\n",
       "    }\n",
       "\n",
       "    .dataframe tbody tr th {\n",
       "        vertical-align: top;\n",
       "    }\n",
       "\n",
       "    .dataframe thead th {\n",
       "        text-align: right;\n",
       "    }\n",
       "</style>\n",
       "<table border=\"1\" class=\"dataframe\">\n",
       "  <thead>\n",
       "    <tr style=\"text-align: right;\">\n",
       "      <th></th>\n",
       "      <th>product_id</th>\n",
       "      <th>quantity</th>\n",
       "    </tr>\n",
       "  </thead>\n",
       "  <tbody>\n",
       "    <tr>\n",
       "      <th>0</th>\n",
       "      <td>77</td>\n",
       "      <td>312</td>\n",
       "    </tr>\n",
       "    <tr>\n",
       "      <th>1</th>\n",
       "      <td>17</td>\n",
       "      <td>308</td>\n",
       "    </tr>\n",
       "    <tr>\n",
       "      <th>2</th>\n",
       "      <td>69</td>\n",
       "      <td>305</td>\n",
       "    </tr>\n",
       "    <tr>\n",
       "      <th>3</th>\n",
       "      <td>46</td>\n",
       "      <td>304</td>\n",
       "    </tr>\n",
       "    <tr>\n",
       "      <th>4</th>\n",
       "      <td>29</td>\n",
       "      <td>298</td>\n",
       "    </tr>\n",
       "    <tr>\n",
       "      <th>5</th>\n",
       "      <td>20</td>\n",
       "      <td>294</td>\n",
       "    </tr>\n",
       "    <tr>\n",
       "      <th>6</th>\n",
       "      <td>47</td>\n",
       "      <td>293</td>\n",
       "    </tr>\n",
       "    <tr>\n",
       "      <th>7</th>\n",
       "      <td>78</td>\n",
       "      <td>283</td>\n",
       "    </tr>\n",
       "    <tr>\n",
       "      <th>8</th>\n",
       "      <td>9</td>\n",
       "      <td>282</td>\n",
       "    </tr>\n",
       "    <tr>\n",
       "      <th>9</th>\n",
       "      <td>11</td>\n",
       "      <td>281</td>\n",
       "    </tr>\n",
       "  </tbody>\n",
       "</table>\n",
       "</div>"
      ],
      "text/plain": [
       "   product_id  quantity\n",
       "0          77       312\n",
       "1          17       308\n",
       "2          69       305\n",
       "3          46       304\n",
       "4          29       298\n",
       "5          20       294\n",
       "6          47       293\n",
       "7          78       283\n",
       "8           9       282\n",
       "9          11       281"
      ]
     },
     "execution_count": 50,
     "metadata": {},
     "output_type": "execute_result"
    }
   ],
   "source": [
    "top"
   ]
  },
  {
   "cell_type": "code",
   "execution_count": 51,
   "id": "d6549cea-dd60-40ec-91b6-5946f28a60b3",
   "metadata": {},
   "outputs": [
    {
     "data": {
      "image/png": "[encoded data removed]",
      "text/plain": [
       "<Figure size 1000x500 with 1 Axes>"
      ]
     },
     "metadata": {},
     "output_type": "display_data"
    }
   ],
   "source": [
    "plt.figure(figsize=(10,5))\n",
    "sns.barplot(x='product_id',y='quantity',data=top,color='teal')\n",
    "plt.title('Top Selling Product By Quantity')\n",
    "plt.ylabel('Quantity')\n",
    "plt.xlabel('Product_ID')\n",
    "plt.xticks(rotation=0)\n",
    "plt.tight_layout()\n",
    "plt.show()"
   ]
  },
  {
   "cell_type": "markdown",
   "id": "852af14b-b10c-41c4-a201-2639fc589071",
   "metadata": {},
   "source": [
    "### Top 10 Order ID By Total Amount"
   ]
  },
  {
   "cell_type": "code",
   "execution_count": 52,
   "id": "7044849c-56b9-457a-b583-4ba4d9bfb7a5",
   "metadata": {},
   "outputs": [],
   "source": [
    "k = order_items.groupby('order_id')['total_amount'].sum().reset_index(drop=False)\n"
   ]
  },
  {
   "cell_type": "code",
   "execution_count": 53,
   "id": "c389e083-22c0-4dc9-b06b-7b13ba227966",
   "metadata": {},
   "outputs": [
    {
     "data": {
      "text/html": [
       "<div>\n",
       "<style scoped>\n",
       "    .dataframe tbody tr th:only-of-type {\n",
       "        vertical-align: middle;\n",
       "    }\n",
       "\n",
       "    .dataframe tbody tr th {\n",
       "        vertical-align: top;\n",
       "    }\n",
       "\n",
       "    .dataframe thead th {\n",
       "        text-align: right;\n",
       "    }\n",
       "</style>\n",
       "<table border=\"1\" class=\"dataframe\">\n",
       "  <thead>\n",
       "    <tr style=\"text-align: right;\">\n",
       "      <th></th>\n",
       "      <th>order_id</th>\n",
       "      <th>total_amount</th>\n",
       "    </tr>\n",
       "  </thead>\n",
       "  <tbody>\n",
       "    <tr>\n",
       "      <th>0</th>\n",
       "      <td>404</td>\n",
       "      <td>100155.12</td>\n",
       "    </tr>\n",
       "    <tr>\n",
       "      <th>1</th>\n",
       "      <td>1918</td>\n",
       "      <td>92864.10</td>\n",
       "    </tr>\n",
       "    <tr>\n",
       "      <th>2</th>\n",
       "      <td>1656</td>\n",
       "      <td>89760.55</td>\n",
       "    </tr>\n",
       "    <tr>\n",
       "      <th>3</th>\n",
       "      <td>2071</td>\n",
       "      <td>89222.38</td>\n",
       "    </tr>\n",
       "    <tr>\n",
       "      <th>4</th>\n",
       "      <td>1831</td>\n",
       "      <td>88871.35</td>\n",
       "    </tr>\n",
       "    <tr>\n",
       "      <th>5</th>\n",
       "      <td>376</td>\n",
       "      <td>85846.31</td>\n",
       "    </tr>\n",
       "    <tr>\n",
       "      <th>6</th>\n",
       "      <td>2257</td>\n",
       "      <td>85171.45</td>\n",
       "    </tr>\n",
       "    <tr>\n",
       "      <th>7</th>\n",
       "      <td>1052</td>\n",
       "      <td>85074.78</td>\n",
       "    </tr>\n",
       "    <tr>\n",
       "      <th>8</th>\n",
       "      <td>336</td>\n",
       "      <td>85012.99</td>\n",
       "    </tr>\n",
       "    <tr>\n",
       "      <th>9</th>\n",
       "      <td>2403</td>\n",
       "      <td>80054.60</td>\n",
       "    </tr>\n",
       "  </tbody>\n",
       "</table>\n",
       "</div>"
      ],
      "text/plain": [
       "   order_id  total_amount\n",
       "0       404     100155.12\n",
       "1      1918      92864.10\n",
       "2      1656      89760.55\n",
       "3      2071      89222.38\n",
       "4      1831      88871.35\n",
       "5       376      85846.31\n",
       "6      2257      85171.45\n",
       "7      1052      85074.78\n",
       "8       336      85012.99\n",
       "9      2403      80054.60"
      ]
     },
     "execution_count": 53,
     "metadata": {},
     "output_type": "execute_result"
    }
   ],
   "source": [
    "k = k.sort_values(by='total_amount', ascending=False).reset_index(drop=True)[:10]\n",
    "k"
   ]
  },
  {
   "cell_type": "code",
   "execution_count": 54,
   "id": "3de4d5bd-48f7-4c74-bd17-1380622bf18e",
   "metadata": {},
   "outputs": [
    {
     "data": {
      "text/plain": [
       "<function matplotlib.pyplot.show(close=None, block=None)>"
      ]
     },
     "execution_count": 54,
     "metadata": {},
     "output_type": "execute_result"
    },
    {
     "data": {
      "image/png": "[encoded data removed]",
      "text/plain": [
       "<Figure size 1000x500 with 1 Axes>"
      ]
     },
     "metadata": {},
     "output_type": "display_data"
    }
   ],
   "source": [
    "plt.figure(figsize=(10,5))\n",
    "sns.barplot(x='order_id',y='total_amount',data=k,color='magenta')\n",
    "plt.title('Top 10 Order By Total Amount')\n",
    "plt.xlabel('Order_ID')\n",
    "plt.ylabel('Total_Amount')\n",
    "plt.xticks(rotation=0)\n",
    "plt.show"
   ]
  },
  {
   "cell_type": "markdown",
   "id": "d3db7add-af0c-41a1-a0e5-1ada2aa37643",
   "metadata": {},
   "source": [
    "### Revenue by region wise"
   ]
  },
  {
   "cell_type": "code",
   "execution_count": 55,
   "id": "842ae589-c8d4-4c20-b903-8eb13a997de4",
   "metadata": {},
   "outputs": [],
   "source": [
    "revenue = pd.merge(customers, payments, left_on='customer_id', right_on='order_id')"
   ]
  },
  {
   "cell_type": "code",
   "execution_count": 56,
   "id": "b03058b4-e2bf-45fe-a9ee-54d4b49190ae",
   "metadata": {},
   "outputs": [
    {
     "data": {
      "text/html": [
       "<div>\n",
       "<style scoped>\n",
       "    .dataframe tbody tr th:only-of-type {\n",
       "        vertical-align: middle;\n",
       "    }\n",
       "\n",
       "    .dataframe tbody tr th {\n",
       "        vertical-align: top;\n",
       "    }\n",
       "\n",
       "    .dataframe thead th {\n",
       "        text-align: right;\n",
       "    }\n",
       "</style>\n",
       "<table border=\"1\" class=\"dataframe\">\n",
       "  <thead>\n",
       "    <tr style=\"text-align: right;\">\n",
       "      <th></th>\n",
       "      <th>region</th>\n",
       "      <th>payment_value</th>\n",
       "    </tr>\n",
       "  </thead>\n",
       "  <tbody>\n",
       "    <tr>\n",
       "      <th>0</th>\n",
       "      <td>East</td>\n",
       "      <td>5727380.96</td>\n",
       "    </tr>\n",
       "    <tr>\n",
       "      <th>1</th>\n",
       "      <td>North</td>\n",
       "      <td>6309431.59</td>\n",
       "    </tr>\n",
       "    <tr>\n",
       "      <th>2</th>\n",
       "      <td>South</td>\n",
       "      <td>6303063.84</td>\n",
       "    </tr>\n",
       "    <tr>\n",
       "      <th>3</th>\n",
       "      <td>West</td>\n",
       "      <td>6350908.40</td>\n",
       "    </tr>\n",
       "  </tbody>\n",
       "</table>\n",
       "</div>"
      ],
      "text/plain": [
       "  region  payment_value\n",
       "0   East     5727380.96\n",
       "1  North     6309431.59\n",
       "2  South     6303063.84\n",
       "3   West     6350908.40"
      ]
     },
     "execution_count": 56,
     "metadata": {},
     "output_type": "execute_result"
    }
   ],
   "source": [
    "revenue.groupby('region')['payment_value'].sum().reset_index(drop=False)"
   ]
  },
  {
   "cell_type": "code",
   "execution_count": 66,
   "id": "c5331f45-6fb9-40c1-9347-a6cb2d6422fc",
   "metadata": {},
   "outputs": [
    {
     "data": {
      "image/png": "[encoded data removed]",
      "text/plain": [
       "<Figure size 1500x500 with 1 Axes>"
      ]
     },
     "metadata": {},
     "output_type": "display_data"
    }
   ],
   "source": [
    "plt.figure(figsize=(15,5))\n",
    "sns.barplot(x='region',y='payment_value',data=revenue,estimator=sum,color='red')\n",
    "plt.title('Revenue By Region')\n",
    "plt.ylabel('Payment value (in lakhs)')\n",
    "plt.xlabel('Sales Region Wise')\n",
    "plt.tight_layout()\n",
    "plt.show()"
   ]
  },
  {
   "cell_type": "markdown",
   "id": "fb6cb9b9-8667-44c6-8e08-3df600d72638",
   "metadata": {},
   "source": [
    "### Revenue  By Category Wise"
   ]
  },
  {
   "cell_type": "code",
   "execution_count": 58,
   "id": "fa773770-3ec9-4ac0-b6d3-61738723090a",
   "metadata": {},
   "outputs": [],
   "source": [
    "category = pd.merge(products, payments, left_on='product_id',right_on='order_id')"
   ]
  },
  {
   "cell_type": "code",
   "execution_count": 59,
   "id": "68a7d195-4145-4449-bca0-4499d38dffad",
   "metadata": {},
   "outputs": [
    {
     "data": {
      "text/html": [
       "<div>\n",
       "<style scoped>\n",
       "    .dataframe tbody tr th:only-of-type {\n",
       "        vertical-align: middle;\n",
       "    }\n",
       "\n",
       "    .dataframe tbody tr th {\n",
       "        vertical-align: top;\n",
       "    }\n",
       "\n",
       "    .dataframe thead th {\n",
       "        text-align: right;\n",
       "    }\n",
       "</style>\n",
       "<table border=\"1\" class=\"dataframe\">\n",
       "  <thead>\n",
       "    <tr style=\"text-align: right;\">\n",
       "      <th></th>\n",
       "      <th>product_id</th>\n",
       "      <th>product_name</th>\n",
       "      <th>category</th>\n",
       "      <th>price</th>\n",
       "      <th>order_id</th>\n",
       "      <th>payment_value</th>\n",
       "    </tr>\n",
       "  </thead>\n",
       "  <tbody>\n",
       "    <tr>\n",
       "      <th>0</th>\n",
       "      <td>2</td>\n",
       "      <td>Product_2</td>\n",
       "      <td>Electronics</td>\n",
       "      <td>1087.64</td>\n",
       "      <td>2</td>\n",
       "      <td>16078.77</td>\n",
       "    </tr>\n",
       "    <tr>\n",
       "      <th>1</th>\n",
       "      <td>3</td>\n",
       "      <td>Product_3</td>\n",
       "      <td>Electronics</td>\n",
       "      <td>4387.06</td>\n",
       "      <td>3</td>\n",
       "      <td>47643.19</td>\n",
       "    </tr>\n",
       "    <tr>\n",
       "      <th>2</th>\n",
       "      <td>4</td>\n",
       "      <td>Product_4</td>\n",
       "      <td>Home</td>\n",
       "      <td>3870.06</td>\n",
       "      <td>4</td>\n",
       "      <td>32466.59</td>\n",
       "    </tr>\n",
       "    <tr>\n",
       "      <th>3</th>\n",
       "      <td>5</td>\n",
       "      <td>Product_5</td>\n",
       "      <td>Electronics</td>\n",
       "      <td>3544.71</td>\n",
       "      <td>5</td>\n",
       "      <td>12899.97</td>\n",
       "    </tr>\n",
       "    <tr>\n",
       "      <th>4</th>\n",
       "      <td>6</td>\n",
       "      <td>Product_6</td>\n",
       "      <td>Clothing</td>\n",
       "      <td>1957.44</td>\n",
       "      <td>6</td>\n",
       "      <td>5751.73</td>\n",
       "    </tr>\n",
       "    <tr>\n",
       "      <th>...</th>\n",
       "      <td>...</td>\n",
       "      <td>...</td>\n",
       "      <td>...</td>\n",
       "      <td>...</td>\n",
       "      <td>...</td>\n",
       "      <td>...</td>\n",
       "    </tr>\n",
       "    <tr>\n",
       "      <th>91</th>\n",
       "      <td>96</td>\n",
       "      <td>Product_96</td>\n",
       "      <td>Home</td>\n",
       "      <td>3327.08</td>\n",
       "      <td>96</td>\n",
       "      <td>46658.91</td>\n",
       "    </tr>\n",
       "    <tr>\n",
       "      <th>92</th>\n",
       "      <td>97</td>\n",
       "      <td>Product_97</td>\n",
       "      <td>Books</td>\n",
       "      <td>1181.20</td>\n",
       "      <td>97</td>\n",
       "      <td>39684.69</td>\n",
       "    </tr>\n",
       "    <tr>\n",
       "      <th>93</th>\n",
       "      <td>98</td>\n",
       "      <td>Product_98</td>\n",
       "      <td>Clothing</td>\n",
       "      <td>4862.59</td>\n",
       "      <td>98</td>\n",
       "      <td>17886.68</td>\n",
       "    </tr>\n",
       "    <tr>\n",
       "      <th>94</th>\n",
       "      <td>99</td>\n",
       "      <td>Product_99</td>\n",
       "      <td>Books</td>\n",
       "      <td>1870.04</td>\n",
       "      <td>99</td>\n",
       "      <td>30960.61</td>\n",
       "    </tr>\n",
       "    <tr>\n",
       "      <th>95</th>\n",
       "      <td>100</td>\n",
       "      <td>Product_100</td>\n",
       "      <td>Toys</td>\n",
       "      <td>4074.65</td>\n",
       "      <td>100</td>\n",
       "      <td>31410.35</td>\n",
       "    </tr>\n",
       "  </tbody>\n",
       "</table>\n",
       "<p>96 rows × 6 columns</p>\n",
       "</div>"
      ],
      "text/plain": [
       "    product_id product_name     category    price  order_id  payment_value\n",
       "0            2    Product_2  Electronics  1087.64         2       16078.77\n",
       "1            3    Product_3  Electronics  4387.06         3       47643.19\n",
       "2            4    Product_4         Home  3870.06         4       32466.59\n",
       "3            5    Product_5  Electronics  3544.71         5       12899.97\n",
       "4            6    Product_6     Clothing  1957.44         6        5751.73\n",
       "..         ...          ...          ...      ...       ...            ...\n",
       "91          96   Product_96         Home  3327.08        96       46658.91\n",
       "92          97   Product_97        Books  1181.20        97       39684.69\n",
       "93          98   Product_98     Clothing  4862.59        98       17886.68\n",
       "94          99   Product_99        Books  1870.04        99       30960.61\n",
       "95         100  Product_100         Toys  4074.65       100       31410.35\n",
       "\n",
       "[96 rows x 6 columns]"
      ]
     },
     "execution_count": 59,
     "metadata": {},
     "output_type": "execute_result"
    }
   ],
   "source": [
    "category"
   ]
  },
  {
   "cell_type": "code",
   "execution_count": 60,
   "id": "85d95169-b7a8-418d-941a-cfbdd5c3b1e7",
   "metadata": {},
   "outputs": [],
   "source": [
    "k=category.groupby('category')['payment_value'].sum().reset_index(drop=False)"
   ]
  },
  {
   "cell_type": "code",
   "execution_count": 61,
   "id": "5cb6356f-29f9-4bf3-9ccd-42708c135506",
   "metadata": {},
   "outputs": [
    {
     "data": {
      "image/png": "[encoded data removed]",
      "text/plain": [
       "<Figure size 800x800 with 1 Axes>"
      ]
     },
     "metadata": {},
     "output_type": "display_data"
    }
   ],
   "source": [
    "plt.figure(figsize=(8,8))\n",
    "plt.pie(k['payment_value'], \n",
    "        labels=k['category'], \n",
    "        autopct='%1.1f%%', \n",
    "        startangle=140,\n",
    "        shadow=True)\n",
    "\n",
    "plt.title(\"Revenue Share by Product Category\")\n",
    "plt.axis('equal')  \n",
    "plt.show()\n"
   ]
  },
  {
   "cell_type": "markdown",
   "id": "a8d241d0-a208-4d47-9c81-2d1eb7f9b048",
   "metadata": {},
   "source": [
    "### TOP 10 Customers by payment"
   ]
  },
  {
   "cell_type": "code",
   "execution_count": 62,
   "id": "ed653c5c-d6ea-4abc-a7df-22c72b06e9e9",
   "metadata": {},
   "outputs": [],
   "source": [
    "r=pd.merge(customers, payments, left_on='customer_id', right_on='order_id' )"
   ]
  },
  {
   "cell_type": "code",
   "execution_count": 63,
   "id": "9ab09563-78cf-4c66-9344-6d4eb759724f",
   "metadata": {},
   "outputs": [
    {
     "data": {
      "text/html": [
       "<div>\n",
       "<style scoped>\n",
       "    .dataframe tbody tr th:only-of-type {\n",
       "        vertical-align: middle;\n",
       "    }\n",
       "\n",
       "    .dataframe tbody tr th {\n",
       "        vertical-align: top;\n",
       "    }\n",
       "\n",
       "    .dataframe thead th {\n",
       "        text-align: right;\n",
       "    }\n",
       "</style>\n",
       "<table border=\"1\" class=\"dataframe\">\n",
       "  <thead>\n",
       "    <tr style=\"text-align: right;\">\n",
       "      <th></th>\n",
       "      <th>customer_id</th>\n",
       "      <th>payment_value</th>\n",
       "    </tr>\n",
       "  </thead>\n",
       "  <tbody>\n",
       "    <tr>\n",
       "      <th>0</th>\n",
       "      <td>2</td>\n",
       "      <td>16078.77</td>\n",
       "    </tr>\n",
       "    <tr>\n",
       "      <th>1</th>\n",
       "      <td>3</td>\n",
       "      <td>47643.19</td>\n",
       "    </tr>\n",
       "    <tr>\n",
       "      <th>2</th>\n",
       "      <td>4</td>\n",
       "      <td>32466.59</td>\n",
       "    </tr>\n",
       "    <tr>\n",
       "      <th>3</th>\n",
       "      <td>5</td>\n",
       "      <td>12899.97</td>\n",
       "    </tr>\n",
       "    <tr>\n",
       "      <th>4</th>\n",
       "      <td>6</td>\n",
       "      <td>5751.73</td>\n",
       "    </tr>\n",
       "    <tr>\n",
       "      <th>...</th>\n",
       "      <td>...</td>\n",
       "      <td>...</td>\n",
       "    </tr>\n",
       "    <tr>\n",
       "      <th>952</th>\n",
       "      <td>996</td>\n",
       "      <td>13996.72</td>\n",
       "    </tr>\n",
       "    <tr>\n",
       "      <th>953</th>\n",
       "      <td>997</td>\n",
       "      <td>17299.12</td>\n",
       "    </tr>\n",
       "    <tr>\n",
       "      <th>954</th>\n",
       "      <td>998</td>\n",
       "      <td>28370.75</td>\n",
       "    </tr>\n",
       "    <tr>\n",
       "      <th>955</th>\n",
       "      <td>999</td>\n",
       "      <td>22192.59</td>\n",
       "    </tr>\n",
       "    <tr>\n",
       "      <th>956</th>\n",
       "      <td>1000</td>\n",
       "      <td>42206.63</td>\n",
       "    </tr>\n",
       "  </tbody>\n",
       "</table>\n",
       "<p>957 rows × 2 columns</p>\n",
       "</div>"
      ],
      "text/plain": [
       "     customer_id  payment_value\n",
       "0              2       16078.77\n",
       "1              3       47643.19\n",
       "2              4       32466.59\n",
       "3              5       12899.97\n",
       "4              6        5751.73\n",
       "..           ...            ...\n",
       "952          996       13996.72\n",
       "953          997       17299.12\n",
       "954          998       28370.75\n",
       "955          999       22192.59\n",
       "956         1000       42206.63\n",
       "\n",
       "[957 rows x 2 columns]"
      ]
     },
     "execution_count": 63,
     "metadata": {},
     "output_type": "execute_result"
    }
   ],
   "source": [
    "r.groupby('customer_id')['payment_value'].sum().reset_index(drop=False)"
   ]
  },
  {
   "cell_type": "code",
   "execution_count": 64,
   "id": "66056431-1514-4f4e-a921-3ed7ccab44df",
   "metadata": {},
   "outputs": [
    {
     "data": {
      "text/html": [
       "<div>\n",
       "<style scoped>\n",
       "    .dataframe tbody tr th:only-of-type {\n",
       "        vertical-align: middle;\n",
       "    }\n",
       "\n",
       "    .dataframe tbody tr th {\n",
       "        vertical-align: top;\n",
       "    }\n",
       "\n",
       "    .dataframe thead th {\n",
       "        text-align: right;\n",
       "    }\n",
       "</style>\n",
       "<table border=\"1\" class=\"dataframe\">\n",
       "  <thead>\n",
       "    <tr style=\"text-align: right;\">\n",
       "      <th></th>\n",
       "      <th>index</th>\n",
       "      <th>customer_id</th>\n",
       "      <th>customer_name</th>\n",
       "      <th>region</th>\n",
       "      <th>order_id</th>\n",
       "      <th>payment_value</th>\n",
       "    </tr>\n",
       "  </thead>\n",
       "  <tbody>\n",
       "    <tr>\n",
       "      <th>0</th>\n",
       "      <td>385</td>\n",
       "      <td>404</td>\n",
       "      <td>Customer_404</td>\n",
       "      <td>South</td>\n",
       "      <td>404</td>\n",
       "      <td>100155.12</td>\n",
       "    </tr>\n",
       "    <tr>\n",
       "      <th>1</th>\n",
       "      <td>359</td>\n",
       "      <td>376</td>\n",
       "      <td>Customer_376</td>\n",
       "      <td>West</td>\n",
       "      <td>376</td>\n",
       "      <td>85846.31</td>\n",
       "    </tr>\n",
       "    <tr>\n",
       "      <th>2</th>\n",
       "      <td>322</td>\n",
       "      <td>336</td>\n",
       "      <td>Customer_336</td>\n",
       "      <td>West</td>\n",
       "      <td>336</td>\n",
       "      <td>85012.99</td>\n",
       "    </tr>\n",
       "    <tr>\n",
       "      <th>3</th>\n",
       "      <td>499</td>\n",
       "      <td>523</td>\n",
       "      <td>Customer_523</td>\n",
       "      <td>South</td>\n",
       "      <td>523</td>\n",
       "      <td>79386.83</td>\n",
       "    </tr>\n",
       "    <tr>\n",
       "      <th>4</th>\n",
       "      <td>16</td>\n",
       "      <td>18</td>\n",
       "      <td>Customer_18</td>\n",
       "      <td>West</td>\n",
       "      <td>18</td>\n",
       "      <td>78005.69</td>\n",
       "    </tr>\n",
       "    <tr>\n",
       "      <th>5</th>\n",
       "      <td>679</td>\n",
       "      <td>711</td>\n",
       "      <td>Customer_711</td>\n",
       "      <td>North</td>\n",
       "      <td>711</td>\n",
       "      <td>76766.03</td>\n",
       "    </tr>\n",
       "    <tr>\n",
       "      <th>6</th>\n",
       "      <td>889</td>\n",
       "      <td>928</td>\n",
       "      <td>Customer_928</td>\n",
       "      <td>North</td>\n",
       "      <td>928</td>\n",
       "      <td>76699.86</td>\n",
       "    </tr>\n",
       "    <tr>\n",
       "      <th>7</th>\n",
       "      <td>654</td>\n",
       "      <td>683</td>\n",
       "      <td>Customer_683</td>\n",
       "      <td>North</td>\n",
       "      <td>683</td>\n",
       "      <td>76048.92</td>\n",
       "    </tr>\n",
       "    <tr>\n",
       "      <th>8</th>\n",
       "      <td>649</td>\n",
       "      <td>678</td>\n",
       "      <td>Customer_678</td>\n",
       "      <td>North</td>\n",
       "      <td>678</td>\n",
       "      <td>75825.14</td>\n",
       "    </tr>\n",
       "    <tr>\n",
       "      <th>9</th>\n",
       "      <td>790</td>\n",
       "      <td>826</td>\n",
       "      <td>Customer_826</td>\n",
       "      <td>West</td>\n",
       "      <td>826</td>\n",
       "      <td>75706.09</td>\n",
       "    </tr>\n",
       "  </tbody>\n",
       "</table>\n",
       "</div>"
      ],
      "text/plain": [
       "   index  customer_id customer_name region  order_id  payment_value\n",
       "0    385          404  Customer_404  South       404      100155.12\n",
       "1    359          376  Customer_376   West       376       85846.31\n",
       "2    322          336  Customer_336   West       336       85012.99\n",
       "3    499          523  Customer_523  South       523       79386.83\n",
       "4     16           18   Customer_18   West        18       78005.69\n",
       "5    679          711  Customer_711  North       711       76766.03\n",
       "6    889          928  Customer_928  North       928       76699.86\n",
       "7    654          683  Customer_683  North       683       76048.92\n",
       "8    649          678  Customer_678  North       678       75825.14\n",
       "9    790          826  Customer_826   West       826       75706.09"
      ]
     },
     "execution_count": 64,
     "metadata": {},
     "output_type": "execute_result"
    }
   ],
   "source": [
    "r=r.sort_values(by='payment_value',ascending=False).reset_index(drop=False)[:10]\n",
    "r"
   ]
  },
  {
   "cell_type": "code",
   "execution_count": 67,
   "id": "4ec7fe83-1bab-43ad-9c37-415dfd4e6582",
   "metadata": {},
   "outputs": [
    {
     "data": {
      "image/png": "[encoded data removed]",
      "text/plain": [
       "<Figure size 1500x500 with 1 Axes>"
      ]
     },
     "metadata": {},
     "output_type": "display_data"
    }
   ],
   "source": [
    "plt.figure(figsize=(15,5))\n",
    "sns.barplot(y='payment_value',x='customer_id',data=r,color='darkorange')\n",
    "plt.title('Top 10 Customer By Payment')\n",
    "plt.xlabel('Customer_ID',fontsize=15)\n",
    "plt.ylabel('Payment_Value',fontsize=15)\n",
    "plt.tight_layout()\n",
    "plt.show()"
   ]
  },
  {
   "cell_type": "code",
   "execution_count": null,
   "id": "555cf646-f36d-43f5-898c-90eb941ed55d",
   "metadata": {},
   "outputs": [],
   "source": []
  }
 ],
 "metadata": {
  "kernelspec": {
   "display_name": "Python 3 (ipykernel)",
   "language": "python",
   "name": "python3"
  },
  "language_info": {
   "codemirror_mode": {
    "name": "ipython",
    "version": 3
   },
   "file_extension": ".py",
   "mimetype": "text/x-python",
   "name": "python",
   "nbconvert_exporter": "python",
   "pygments_lexer": "ipython3",
   "version": "3.12.7"
  }
 },
 "nbformat": 4,
 "nbformat_minor": 5
}
